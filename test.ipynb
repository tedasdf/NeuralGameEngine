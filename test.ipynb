{
 "cells": [
  {
   "cell_type": "code",
   "execution_count": 27,
   "id": "0d7b3bf7",
   "metadata": {},
   "outputs": [],
   "source": [
    "\n",
    "\n",
    "\n",
    "class Game:\n",
    "    def __init__(self, url, sequence_length):\n",
    "\n",
    "        self.num_sequences = sequence_length\n",
    "        self.sequence = []\n",
    "        self.player_sequence = []\n",
    "        self.reward = None\n",
    "        self.target_positions = [\n",
    "            [-10, 10 , 5],\n",
    "            [-3.33 , 10, 5],\n",
    "            [3.33 , 10 , 5],\n",
    "            [10, 10,5]\n",
    "        ]\n",
    "\n",
    "game = Game('asf',4)"
   ]
  },
  {
   "cell_type": "code",
   "execution_count": 28,
   "id": "771618c3",
   "metadata": {},
   "outputs": [
    {
     "name": "stdout",
     "output_type": "stream",
     "text": [
      "0\n"
     ]
    },
    {
     "data": {
      "text/plain": [
       "[10, 10, 5]"
      ]
     },
     "execution_count": 28,
     "metadata": {},
     "output_type": "execute_result"
    }
   ],
   "source": [
    "target_sequence = [ 4, 2, 3, 4]\n",
    "player_sequence = [ ]\n",
    "print(len(player_sequence))\n",
    "game.target_positions[target_sequence[len(player_sequence)]- 1]"
   ]
  },
  {
   "cell_type": "code",
   "execution_count": 29,
   "id": "1cbb306f",
   "metadata": {},
   "outputs": [],
   "source": [
    "import numpy as np"
   ]
  },
  {
   "cell_type": "code",
   "execution_count": 50,
   "id": "1bd39eea",
   "metadata": {},
   "outputs": [],
   "source": [
    "robot_pos = [10, 10, 5.0]"
   ]
  },
  {
   "cell_type": "code",
   "execution_count": 53,
   "id": "d7a902e3",
   "metadata": {},
   "outputs": [],
   "source": [
    "dist = np.linalg.norm(np.array(robot_pos) - np.array(game.target_positions[target_sequence[len(player_sequence)] - 1]))\n",
    "max_dist = 0.5  # max meaningful distance\n",
    "proximity_reward = max(0, (max_dist - dist) / max_dist)  # normalized between 0 and 1\n",
    "proximity_reward = min(proximity_reward, 0.7)  # cap at 0.7\n"
   ]
  },
  {
   "cell_type": "code",
   "execution_count": 54,
   "id": "6be68dff",
   "metadata": {},
   "outputs": [
    {
     "data": {
      "text/plain": [
       "0.7"
      ]
     },
     "execution_count": 54,
     "metadata": {},
     "output_type": "execute_result"
    }
   ],
   "source": [
    "proximity_reward"
   ]
  },
  {
   "cell_type": "code",
   "execution_count": 9,
   "id": "a60f497f",
   "metadata": {},
   "outputs": [
    {
     "name": "stdout",
     "output_type": "stream",
     "text": [
      "Incorrect\n"
     ]
    }
   ],
   "source": [
    "print(check_sequence([1,2,4] , [1, 2, 3, 4] , True))"
   ]
  },
  {
   "cell_type": "code",
   "execution_count": 9,
   "id": "c458e971",
   "metadata": {},
   "outputs": [
    {
     "name": "stdout",
     "output_type": "stream",
     "text": [
      "Random action sample: [ 5.208424 -8.368926 -9.505375]\n"
     ]
    }
   ],
   "source": [
    "from gymnasium import spaces\n",
    "import numpy as np\n",
    "\n",
    "# Define the action space (3D continuous Box)\n",
    "action_space = spaces.Box(low=-10.0, high=10.0, shape=(3,), dtype=np.float32)\n",
    "\n",
    "# Sample a random action\n",
    "sample_action = action_space.sample()\n",
    "\n",
    "# Print it\n",
    "print(\"Random action sample:\", sample_action)\n"
   ]
  },
  {
   "cell_type": "code",
   "execution_count": 10,
   "id": "b600d60f",
   "metadata": {},
   "outputs": [],
   "source": [
    "rounded_action = np.round(sample_action).astype(int)"
   ]
  },
  {
   "cell_type": "code",
   "execution_count": 13,
   "id": "e2884cf1",
   "metadata": {},
   "outputs": [
    {
     "name": "stdout",
     "output_type": "stream",
     "text": [
      "5\n"
     ]
    }
   ],
   "source": [
    "print(rounded_action[0])"
   ]
  },
  {
   "cell_type": "code",
   "execution_count": 16,
   "id": "c390099e",
   "metadata": {},
   "outputs": [
    {
     "data": {
      "text/plain": [
       "(np.int64(5), np.int64(-8), np.int64(-10), 3)"
      ]
     },
     "execution_count": 16,
     "metadata": {},
     "output_type": "execute_result"
    }
   ],
   "source": [
    "rounded_action[0], rounded_action[1]  , rounded_action[2], len(rounded_action)"
   ]
  },
  {
   "cell_type": "code",
   "execution_count": 17,
   "id": "87e2c8a3",
   "metadata": {},
   "outputs": [
    {
     "data": {
      "text/plain": [
       "array([  5,  -8, -10])"
      ]
     },
     "execution_count": 17,
     "metadata": {},
     "output_type": "execute_result"
    }
   ],
   "source": [
    "rounded_action[:]"
   ]
  },
  {
   "cell_type": "code",
   "execution_count": 59,
   "id": "cb5fe8f3",
   "metadata": {},
   "outputs": [],
   "source": [
    "import os\n",
    "import csv\n",
    "from PIL import Image\n",
    "\n",
    "def _save_frames_locally( episode, frames_buffer, actions_buffer, states_buffer):\n",
    "    \"\"\"Save frames and associated data (action, state) as a table.\"\"\"\n",
    "    episode_dir = f\"episode_{episode}\"\n",
    "    os.makedirs(episode_dir, exist_ok=True)\n",
    "\n",
    "    metadata_path = os.path.join(episode_dir, \"metadata.csv\")\n",
    "    with open(metadata_path, mode=\"w\", newline=\"\") as csvfile:\n",
    "        writer = csv.writer(csvfile)\n",
    "        writer.writerow([\"frame_index\", \"filename\", \"action\", \"state\"])  # header\n",
    "\n",
    "        for idx, (frame, action, state) in enumerate(zip(frames_buffer, actions_buffer, states_buffer)):\n",
    "            filename = f\"{idx:05d}_action_{action}.png\"\n",
    "            filepath = os.path.join(episode_dir, filename)\n",
    "\n",
    "            # Save image\n",
    "            Image.fromarray(frame).save(filepath)\n",
    "\n",
    "            # Write metadata row\n",
    "            writer.writerow([idx, filename, action, state])\n"
   ]
  },
  {
   "cell_type": "code",
   "execution_count": 60,
   "id": "978a43a8",
   "metadata": {},
   "outputs": [
    {
     "name": "stdout",
     "output_type": "stream",
     "text": [
      "Sample data saved in folder 'episode_0001'\n"
     ]
    }
   ],
   "source": [
    "# Generate 5 random \"frames\" (e.g., 64x64 RGB images)\n",
    "frames_buffer = [np.random.randint(0, 256, (64, 64, 3), dtype=np.uint8) for _ in range(5)]\n",
    "\n",
    "# Random actions (e.g., integers representing action IDs)\n",
    "actions_buffer = [np.random.randint(0, 5) for _ in range(5)]\n",
    "\n",
    "# Random states (e.g., [theta1, theta2, theta3] in degrees)\n",
    "states_buffer = [np.round(np.random.uniform(0, 180, size=3), 2).tolist() for _ in range(5)]\n",
    "\n",
    "# Call your function\n",
    "_save_frames_locally(episode=\"0001\", frames_buffer=frames_buffer, actions_buffer=actions_buffer, states_buffer=states_buffer)\n",
    "\n",
    "print(\"Sample data saved in folder 'episode_0001'\")"
   ]
  },
  {
   "cell_type": "code",
   "execution_count": null,
   "id": "afad7395",
   "metadata": {},
   "outputs": [],
   "source": []
  }
 ],
 "metadata": {
  "kernelspec": {
   "display_name": "diamond",
   "language": "python",
   "name": "python3"
  },
  "language_info": {
   "codemirror_mode": {
    "name": "ipython",
    "version": 3
   },
   "file_extension": ".py",
   "mimetype": "text/x-python",
   "name": "python",
   "nbconvert_exporter": "python",
   "pygments_lexer": "ipython3",
   "version": "3.10.16"
  }
 },
 "nbformat": 4,
 "nbformat_minor": 5
}
