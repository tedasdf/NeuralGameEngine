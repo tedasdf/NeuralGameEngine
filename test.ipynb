{
 "cells": [
  {
   "cell_type": "code",
   "execution_count": 13,
   "id": "0d7b3bf7",
   "metadata": {},
   "outputs": [],
   "source": [
    "\n",
    "\n",
    "\n",
    "class Game:\n",
    "    def __init__(self, url, sequence_length):\n",
    "\n",
    "        self.num_sequences = sequence_length\n",
    "        self.sequence = []\n",
    "        self.player_sequence = []\n",
    "        self.reward = None\n",
    "        self.target_positions = [\n",
    "            [-10, 10 , 5],\n",
    "            [-3.33 , 10, 5],\n",
    "            [3.33 , 10 , 5],\n",
    "            [10, 10,5]\n",
    "        ]\n",
    "\n",
    "game = Game('asf',4)"
   ]
  },
  {
   "cell_type": "code",
   "execution_count": 15,
   "id": "771618c3",
   "metadata": {},
   "outputs": [
    {
     "data": {
      "text/plain": [
       "[10, 10, 5]"
      ]
     },
     "execution_count": 15,
     "metadata": {},
     "output_type": "execute_result"
    }
   ],
   "source": [
    "target_sequence = [ 1, 2, 3, 4]\n",
    "player_sequence = [ 1, 3]\n",
    "\n",
    "game.target_positions[target_sequence[len(player_sequence)]]"
   ]
  },
  {
   "cell_type": "code",
   "execution_count": 9,
   "id": "a60f497f",
   "metadata": {},
   "outputs": [
    {
     "name": "stdout",
     "output_type": "stream",
     "text": [
      "Incorrect\n"
     ]
    }
   ],
   "source": [
    "print(check_sequence([1,2,4] , [1, 2, 3, 4] , True))"
   ]
  },
  {
   "cell_type": "code",
   "execution_count": 9,
   "id": "c458e971",
   "metadata": {},
   "outputs": [
    {
     "name": "stdout",
     "output_type": "stream",
     "text": [
      "Random action sample: [ 5.208424 -8.368926 -9.505375]\n"
     ]
    }
   ],
   "source": [
    "from gymnasium import spaces\n",
    "import numpy as np\n",
    "\n",
    "# Define the action space (3D continuous Box)\n",
    "action_space = spaces.Box(low=-10.0, high=10.0, shape=(3,), dtype=np.float32)\n",
    "\n",
    "# Sample a random action\n",
    "sample_action = action_space.sample()\n",
    "\n",
    "# Print it\n",
    "print(\"Random action sample:\", sample_action)\n"
   ]
  },
  {
   "cell_type": "code",
   "execution_count": 10,
   "id": "b600d60f",
   "metadata": {},
   "outputs": [],
   "source": [
    "rounded_action = np.round(sample_action).astype(int)"
   ]
  },
  {
   "cell_type": "code",
   "execution_count": 13,
   "id": "e2884cf1",
   "metadata": {},
   "outputs": [
    {
     "name": "stdout",
     "output_type": "stream",
     "text": [
      "5\n"
     ]
    }
   ],
   "source": [
    "print(rounded_action[0])"
   ]
  },
  {
   "cell_type": "code",
   "execution_count": 16,
   "id": "c390099e",
   "metadata": {},
   "outputs": [
    {
     "data": {
      "text/plain": [
       "(np.int64(5), np.int64(-8), np.int64(-10), 3)"
      ]
     },
     "execution_count": 16,
     "metadata": {},
     "output_type": "execute_result"
    }
   ],
   "source": [
    "rounded_action[0], rounded_action[1]  , rounded_action[2], len(rounded_action)"
   ]
  },
  {
   "cell_type": "code",
   "execution_count": 17,
   "id": "87e2c8a3",
   "metadata": {},
   "outputs": [
    {
     "data": {
      "text/plain": [
       "array([  5,  -8, -10])"
      ]
     },
     "execution_count": 17,
     "metadata": {},
     "output_type": "execute_result"
    }
   ],
   "source": [
    "rounded_action[:]"
   ]
  },
  {
   "cell_type": "code",
   "execution_count": null,
   "id": "cb5fe8f3",
   "metadata": {},
   "outputs": [],
   "source": []
  }
 ],
 "metadata": {
  "kernelspec": {
   "display_name": "diamond",
   "language": "python",
   "name": "python3"
  },
  "language_info": {
   "codemirror_mode": {
    "name": "ipython",
    "version": 3
   },
   "file_extension": ".py",
   "mimetype": "text/x-python",
   "name": "python",
   "nbconvert_exporter": "python",
   "pygments_lexer": "ipython3",
   "version": "3.10.16"
  }
 },
 "nbformat": 4,
 "nbformat_minor": 5
}
